{
  "nbformat": 4,
  "nbformat_minor": 0,
  "metadata": {
    "colab": {
      "provenance": [],
      "authorship_tag": "ABX9TyMvJKNFJ30ehZhokWwtfScR",
      "include_colab_link": true
    },
    "kernelspec": {
      "name": "python3",
      "display_name": "Python 3"
    },
    "language_info": {
      "name": "python"
    }
  },
  "cells": [
    {
      "cell_type": "markdown",
      "metadata": {
        "id": "view-in-github",
        "colab_type": "text"
      },
      "source": [
        "<a href=\"https://colab.research.google.com/github/Armin-Abdollahi/Boston-House-Price-Prediction/blob/main/Random_Forest.ipynb\" target=\"_parent\"><img src=\"https://colab.research.google.com/assets/colab-badge.svg\" alt=\"Open In Colab\"/></a>"
      ]
    },
    {
      "cell_type": "code",
      "execution_count": 1,
      "metadata": {
        "id": "6b57LZfAd-vQ"
      },
      "outputs": [],
      "source": [
        "import numpy as np\n",
        "import pandas as pd\n",
        "import seaborn as sns\n",
        "import matplotlib.pyplot as plt\n",
        "from sklearn.model_selection import train_test_split\n",
        "from sklearn.metrics import r2_score\n",
        "\n",
        "%matplotlib inline"
      ]
    },
    {
      "cell_type": "code",
      "source": [
        "data = pd.read_csv(‘HousingData.csv’)\n",
        "data.head()"
      ],
      "metadata": {
        "id": "rDIbxTREeIVi"
      },
      "execution_count": null,
      "outputs": []
    },
    {
      "cell_type": "code",
      "source": [
        "data.describe()"
      ],
      "metadata": {
        "id": "qyEGAnrfeQJ8"
      },
      "execution_count": null,
      "outputs": []
    },
    {
      "cell_type": "code",
      "source": [
        "data.info()"
      ],
      "metadata": {
        "id": "PJZ0ojlgeSqg"
      },
      "execution_count": null,
      "outputs": []
    },
    {
      "cell_type": "code",
      "source": [
        "col = ['CRIM','ZN','INDUS','CHAS','AGE','LSTAT']\n",
        "for c in col:\n",
        "    data[c].fillna(data[c].mean(),inplace=True)"
      ],
      "metadata": {
        "id": "d3ANar16eYN7"
      },
      "execution_count": null,
      "outputs": []
    },
    {
      "cell_type": "code",
      "source": [
        "data.info()"
      ],
      "metadata": {
        "id": "CyZ9gbpRed1X"
      },
      "execution_count": null,
      "outputs": []
    },
    {
      "cell_type": "code",
      "source": [
        "data.corr()[‘TAX’].sort_values(ascending=False)"
      ],
      "metadata": {
        "id": "cVahxurGegVe"
      },
      "execution_count": null,
      "outputs": []
    },
    {
      "cell_type": "code",
      "source": [
        "from sklearn.preprocessing import StandardScaler\n",
        "\n",
        "X = data.drop('TAX',axis=1)\n",
        "y = data['TAX']\n",
        "\n",
        "scaler = StandardScaler()\n",
        "X = scaler.fit_transform(X)\n",
        "\n",
        "X_train, X_test, y_train, y_test = train_test_split(X, y, test_size=0.3, random_state=42)"
      ],
      "metadata": {
        "id": "9w3FcJMiejGu"
      },
      "execution_count": null,
      "outputs": []
    },
    {
      "cell_type": "code",
      "source": [
        "from sklearn.ensemble import RandomForestRegressor\n",
        "from sklearn.model_selection import GridSearchCV\n",
        "\n",
        "rfc = RandomForestRegressor()\n",
        "params = {'n_estimators':[100,200,300,400,500,600,700,800,900,1000]}\n",
        "\n",
        "grid_model = GridSearchCV(rfc, params,verbose=2)\n",
        "grid_model.fit(X_train,y_train)\n",
        "\n",
        "pred = grid_model.predict(X_test)\n",
        "\n",
        "print('Random Forest accuracy is --> ',r2_score(y_test,pred)*100)"
      ],
      "metadata": {
        "id": "mz8kvLn_elyY"
      },
      "execution_count": null,
      "outputs": []
    },
    {
      "cell_type": "code",
      "source": [
        "grid_model.best_params_"
      ],
      "metadata": {
        "id": "o8xX4Y2ReogT"
      },
      "execution_count": null,
      "outputs": []
    },
    {
      "cell_type": "code",
      "source": [
        "res = pd.DataFrame()\n",
        "res['Y_Test'] = y_test\n",
        "res['PRED'] = pred\n",
        "res.head()"
      ],
      "metadata": {
        "id": "hZkVsChgeq0r"
      },
      "execution_count": null,
      "outputs": []
    },
    {
      "cell_type": "code",
      "source": [
        "sns.scatterplot(y_test,pred)\n",
        "plt.xlabel(‘real values’)\n",
        "plt.ylabel(‘predicted values’)"
      ],
      "metadata": {
        "id": "20JQUwHpetCw"
      },
      "execution_count": null,
      "outputs": []
    }
  ]
}